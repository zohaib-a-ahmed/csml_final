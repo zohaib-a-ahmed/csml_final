{
 "cells": [
  {
   "cell_type": "code",
   "execution_count": 1,
   "metadata": {},
   "outputs": [
    {
     "name": "stdout",
     "output_type": "stream",
     "text": [
      "Loaded 6616 images from 2 sources. Removed 3671 duplicates.\n"
     ]
    }
   ],
   "source": [
    "import sys\n",
    "from data.tumor_data import load_data\n",
    "\n",
    "train, val, test = load_data([], batch_size=1, shuffle=True)"
   ]
  },
  {
   "cell_type": "code",
   "execution_count": 2,
   "metadata": {},
   "outputs": [
    {
     "name": "stdout",
     "output_type": "stream",
     "text": [
      "tensor([[[[ 0.9922, -0.2471,  0.2392,  ...,  0.0039, -0.3412,  0.9922],\n",
      "          [ 0.8510, -0.9922, -0.9922,  ..., -0.9843, -1.0000,  0.9843],\n",
      "          [ 0.9843, -0.9137, -1.0000,  ..., -1.0000, -0.9373,  0.9843],\n",
      "          ...,\n",
      "          [ 0.9843, -1.0000, -0.9059,  ..., -0.8667, -1.0000,  0.9843],\n",
      "          [ 0.9843, -1.0000, -0.9294,  ..., -1.0000, -0.9373,  0.9843],\n",
      "          [ 1.0000,  0.9843,  0.9843,  ...,  0.9843,  0.9843,  1.0000]]]])\n"
     ]
    }
   ],
   "source": [
    "for batch in train:\n",
    "    img, label = batch\n",
    "    print(img)\n",
    "    break"
   ]
  },
  {
   "cell_type": "code",
   "execution_count": 17,
   "metadata": {},
   "outputs": [],
   "source": [
    "import torch\n",
    "import numpy as np\n",
    "from PIL import Image\n",
    "\n",
    "def tensor_to_image(tensor):\n",
    "    \"\"\"\n",
    "    Convert a PyTorch tensor to a PIL Image.\n",
    "\n",
    "    Args:\n",
    "        tensor (torch.Tensor): The input tensor of shape (C, H, W).\n",
    "\n",
    "    Returns:\n",
    "        PIL.Image: The converted image.\n",
    "    \"\"\"\n",
    "    \n",
    "    # # Convert to uint8\n",
    "    # tensor = tensor.astype(np.uint8)\n",
    "    \n",
    "    # Rearrange dimensions from (C, H, W) to (H, W, C)\n",
    "    if tensor.shape[0] == 1:  # Grayscale\n",
    "        tensor = tensor[0]  # Remove the channel dimension\n",
    "    else:  # RGB\n",
    "        tensor = np.transpose(tensor, (1, 2, 0))  # Change to (H, W, C)\n",
    "    \n",
    "    # Create a PIL Image\n",
    "    image = Image.fromarray(tensor)\n",
    "    return image"
   ]
  },
  {
   "cell_type": "code",
   "execution_count": 18,
   "metadata": {},
   "outputs": [
    {
     "ename": "AttributeError",
     "evalue": "'Tensor' object has no attribute '__array_interface__'",
     "output_type": "error",
     "traceback": [
      "\u001b[0;31m---------------------------------------------------------------------------\u001b[0m",
      "\u001b[0;31mAttributeError\u001b[0m                            Traceback (most recent call last)",
      "Cell \u001b[0;32mIn[18], line 1\u001b[0m\n\u001b[0;32m----> 1\u001b[0m image \u001b[38;5;241m=\u001b[39m tensor_to_image(train\u001b[38;5;241m.\u001b[39mdataset[\u001b[38;5;241m0\u001b[39m][\u001b[38;5;241m0\u001b[39m])\n\u001b[1;32m      2\u001b[0m image\u001b[38;5;241m.\u001b[39mshow()\n",
      "Cell \u001b[0;32mIn[17], line 26\u001b[0m, in \u001b[0;36mtensor_to_image\u001b[0;34m(tensor)\u001b[0m\n\u001b[1;32m     23\u001b[0m     tensor \u001b[38;5;241m=\u001b[39m np\u001b[38;5;241m.\u001b[39mtranspose(tensor, (\u001b[38;5;241m1\u001b[39m, \u001b[38;5;241m2\u001b[39m, \u001b[38;5;241m0\u001b[39m))  \u001b[38;5;66;03m# Change to (H, W, C)\u001b[39;00m\n\u001b[1;32m     25\u001b[0m \u001b[38;5;66;03m# Create a PIL Image\u001b[39;00m\n\u001b[0;32m---> 26\u001b[0m image \u001b[38;5;241m=\u001b[39m Image\u001b[38;5;241m.\u001b[39mfromarray(tensor)\n\u001b[1;32m     27\u001b[0m \u001b[38;5;28;01mreturn\u001b[39;00m image\n",
      "File \u001b[0;32m/opt/anaconda3/envs/dlhomework/lib/python3.11/site-packages/PIL/Image.py:3266\u001b[0m, in \u001b[0;36mfromarray\u001b[0;34m(obj, mode)\u001b[0m\n\u001b[1;32m   3219\u001b[0m \u001b[38;5;28;01mdef\u001b[39;00m \u001b[38;5;21mfromarray\u001b[39m(obj: SupportsArrayInterface, mode: \u001b[38;5;28mstr\u001b[39m \u001b[38;5;241m|\u001b[39m \u001b[38;5;28;01mNone\u001b[39;00m \u001b[38;5;241m=\u001b[39m \u001b[38;5;28;01mNone\u001b[39;00m) \u001b[38;5;241m-\u001b[39m\u001b[38;5;241m>\u001b[39m Image:\n\u001b[1;32m   3220\u001b[0m \u001b[38;5;250m    \u001b[39m\u001b[38;5;124;03m\"\"\"\u001b[39;00m\n\u001b[1;32m   3221\u001b[0m \u001b[38;5;124;03m    Creates an image memory from an object exporting the array interface\u001b[39;00m\n\u001b[1;32m   3222\u001b[0m \u001b[38;5;124;03m    (using the buffer protocol)::\u001b[39;00m\n\u001b[0;32m   (...)\u001b[0m\n\u001b[1;32m   3264\u001b[0m \u001b[38;5;124;03m    .. versionadded:: 1.1.6\u001b[39;00m\n\u001b[1;32m   3265\u001b[0m \u001b[38;5;124;03m    \"\"\"\u001b[39;00m\n\u001b[0;32m-> 3266\u001b[0m     arr \u001b[38;5;241m=\u001b[39m obj\u001b[38;5;241m.\u001b[39m__array_interface__\n\u001b[1;32m   3267\u001b[0m     shape \u001b[38;5;241m=\u001b[39m arr[\u001b[38;5;124m\"\u001b[39m\u001b[38;5;124mshape\u001b[39m\u001b[38;5;124m\"\u001b[39m]\n\u001b[1;32m   3268\u001b[0m     ndim \u001b[38;5;241m=\u001b[39m \u001b[38;5;28mlen\u001b[39m(shape)\n",
      "\u001b[0;31mAttributeError\u001b[0m: 'Tensor' object has no attribute '__array_interface__'"
     ]
    }
   ],
   "source": [
    "image = tensor_to_image(train.dataset[0][0])\n",
    "image.show()"
   ]
  }
 ],
 "metadata": {
  "kernelspec": {
   "display_name": "dlhomework",
   "language": "python",
   "name": "python3"
  },
  "language_info": {
   "codemirror_mode": {
    "name": "ipython",
    "version": 3
   },
   "file_extension": ".py",
   "mimetype": "text/x-python",
   "name": "python",
   "nbconvert_exporter": "python",
   "pygments_lexer": "ipython3",
   "version": "3.11.9"
  }
 },
 "nbformat": 4,
 "nbformat_minor": 2
}
